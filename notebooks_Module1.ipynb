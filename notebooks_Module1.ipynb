{
  "metadata": {
    "language_info": {
      "codemirror_mode": {
        "name": "python",
        "version": 3
      },
      "file_extension": ".py",
      "mimetype": "text/x-python",
      "name": "python",
      "nbconvert_exporter": "python",
      "pygments_lexer": "ipython3",
      "version": "3.8"
    },
    "kernelspec": {
      "name": "python",
      "display_name": "Python (Pyodide)",
      "language": "python"
    }
  },
  "nbformat_minor": 4,
  "nbformat": 4,
  "cells": [
    {
      "cell_type": "markdown",
      "source": "# My Jupyter Notebook on IBM Watson Studio #",
      "metadata": {}
    },
    {
      "cell_type": "markdown",
      "source": "**David Stenhouse**\n<br>\nCurrent Occupation - Credit Analyst",
      "metadata": {}
    },
    {
      "cell_type": "markdown",
      "source": "*I am interested in learning data science so that I can apply more robust data sets to my current work process. There is an evergrowing amount of data available and I want to be able to better organize and use it.*",
      "metadata": {}
    },
    {
      "cell_type": "markdown",
      "source": "### The below code is a short math formula that will produce an answer of 10 ###",
      "metadata": {}
    },
    {
      "cell_type": "code",
      "source": "(1+4)*(5-3)",
      "metadata": {
        "trusted": true
      },
      "execution_count": 1,
      "outputs": [
        {
          "execution_count": 1,
          "output_type": "execute_result",
          "data": {
            "text/plain": "10"
          },
          "metadata": {}
        }
      ]
    },
    {
      "cell_type": "markdown",
      "source": "1. Item 1\n2. Item 2\n3. Item 3\n\n| State | Abbreviation |\n| ------------- |-------------| \n| Alabama | AL | \n| Alaska | AK | \n| Arizona | AZ | \n\n\n![alt text](https://sayingimages.com/wp-content/uploads/and-its-done-meme.jpg \"All Done\")\n",
      "metadata": {}
    },
    {
      "cell_type": "code",
      "source": "",
      "metadata": {},
      "execution_count": null,
      "outputs": []
    }
  ]
}